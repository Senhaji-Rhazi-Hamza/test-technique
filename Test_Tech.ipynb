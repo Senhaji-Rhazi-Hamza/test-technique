{
 "cells": [
  {
   "cell_type": "markdown",
   "metadata": {},
   "source": [
    "# Test Technique"
   ]
  },
  {
   "cell_type": "markdown",
   "metadata": {},
   "source": [
    "## Dictionary preprocess"
   ]
  },
  {
   "cell_type": "markdown",
   "metadata": {},
   "source": [
    "#### given a dictionary we will try to rewrite it's keys as it can match the keys given in the output : \n",
    "\n",
    "\n",
    "{\n",
    "\n",
    "  \"category\": string, // For example 'computer', 'clothes', 'phone' ...\n",
    "  \n",
    "  \"underCategories\": [string], // For example ['desktop', 'gaming'], ['shirt'], ['smartphone', 'iPhone'] ...\n",
    "  \n",
    "  \"price\": number, // e.g 23.78, (we don't car of HT / TTC price)\n",
    "  \n",
    "  \"currency\": string, // €, $ ..\n",
    "  \n",
    "  \"color\": string, (could be also null => do not print error in not required cases)\n",
    "  \n",
    "  \"brand\": string, // e.g 'Apple'\n",
    "  \n",
    "}\n"
   ]
  },
  {
   "cell_type": "code",
   "execution_count": null,
   "metadata": {},
   "outputs": [],
   "source": []
  },
  {
   "cell_type": "code",
   "execution_count": 7,
   "metadata": {},
   "outputs": [],
   "source": [
    "from nltk.stem.wordnet import WordNetLemmatizer #\n",
    "from nltk.stem.snowball import SnowballStemmer\n",
    "from textblob import TextBlob\n",
    "from nltk.metrics import *\n",
    "import numpy as np\n",
    "import re\n",
    "import collections \n"
   ]
  },
  {
   "cell_type": "code",
   "execution_count": 9,
   "metadata": {},
   "outputs": [],
   "source": [
    "def process_stem(text):\n",
    "    lan = TextBlob(text)\n",
    "    stem =  SnowballStemmer(\"french\") if (lan.detect_language() == 'fr') else SnowballStemmer(\"english\")\n",
    "    #lem = WordNetLemmatizer() havnt found french lemmatizer\n",
    "    l = re.split(\",| \", text)\n",
    "    l = np.array([stem.stem((l[i].lower())) for i in range(len(l))])\n",
    "    text = \" \".join(l)\n",
    "    return text"
   ]
  },
  {
   "cell_type": "code",
   "execution_count": 78,
   "metadata": {},
   "outputs": [],
   "source": [
    "# functions that check if a given key match with one of the keys desired \n",
    "def is_category(text):\n",
    "    min1 = edit_distance(process_stem(text), process_stem(\"category\"))\n",
    "    min2 = edit_distance(process_stem(text), process_stem(\"categorie\")) \n",
    "    min3 = min(min1, min2)\n",
    "    if (min3 < 2):\n",
    "        return True\n",
    "    else:\n",
    "        return False\n",
    "\n",
    "def is_under_categories(text):\n",
    "    min1 = edit_distance(process_stem(text), process_stem(\"underCategories\"))\n",
    "    min2 = edit_distance(process_stem(text), process_stem(\"sous-categories\")) \n",
    "    min3 = edit_distance(process_stem(text), process_stem(\"tags\"))\n",
    "    min4 = edit_distance(process_stem(text), process_stem(\"sous categories\"))\n",
    "    min5 = edit_distance(process_stem(text), process_stem(\"sub categories\"))\n",
    "    minn = min(min1, min2,min3 ,min4, min5)\n",
    "    if (minn < 2):\n",
    "        return True\n",
    "    else:\n",
    "        return False\n",
    "\n",
    "    \n",
    "def is_price(text):\n",
    "    text = process_stem(text)\n",
    "    p = process_stem(text)\n",
    "    price_regex = re.compile(r\"HTC|TTC|price|prix\")\n",
    "    m = price_regex.match(text)\n",
    "    if (m):\n",
    "        return True\n",
    "    else :\n",
    "        return False\n",
    "def take_cur(text):\n",
    "    cur = re.findall(r\"[^0-9 \\t\\n\\r\\f\\v]\", text)\n",
    "   # print(cur)\n",
    "    if(cur ==[]):\n",
    "        return cur\n",
    "    else:\n",
    "        return cur[(cur != ',') * (cur != '.')]\n",
    "    \n",
    "\n",
    "def reprice_val(text):\n",
    "    c = re.findall(\"\\d+\", text)\n",
    "    if (len(c) > 1):\n",
    "        return int(c[0]) + 10**-len(c[1]) * int(c[1])\n",
    "    return int(c[0])"
   ]
  },
  {
   "cell_type": "code",
   "execution_count": 67,
   "metadata": {},
   "outputs": [],
   "source": [
    "val = \"6622\""
   ]
  },
  {
   "cell_type": "code",
   "execution_count": 66,
   "metadata": {},
   "outputs": [
    {
     "data": {
      "text/plain": [
       "6622"
      ]
     },
     "execution_count": 66,
     "metadata": {},
     "output_type": "execute_result"
    }
   ],
   "source": [
    "reprice_val(val)"
   ]
  },
  {
   "cell_type": "code",
   "execution_count": 68,
   "metadata": {},
   "outputs": [
    {
     "name": "stdout",
     "output_type": "stream",
     "text": [
      "[]\n"
     ]
    },
    {
     "data": {
      "text/plain": [
       "[]"
      ]
     },
     "execution_count": 68,
     "metadata": {},
     "output_type": "execute_result"
    }
   ],
   "source": [
    "take_cur(val)"
   ]
  },
  {
   "cell_type": "code",
   "execution_count": 69,
   "metadata": {},
   "outputs": [],
   "source": [
    "# currency_list taken from https://github.com/iktw/python-currency-list/blob/master/python_currency_dict.py\n",
    "currency_list = {\n",
    "    'ALL': 'Albania Lek',\n",
    "    'AFN': 'Afghanistan Afghani',\n",
    "    'ARS': 'Argentina Peso',\n",
    "    'AWG': 'Aruba Guilder',\n",
    "    'AUD': 'Australia Dollar',\n",
    "    'AZN': 'Azerbaijan New Manat',\n",
    "    'BSD': 'Bahamas Dollar',\n",
    "    'BBD': 'Barbados Dollar',\n",
    "    'BDT': 'Bangladeshi taka',\n",
    "    'BYR': 'Belarus Ruble',\n",
    "    'BZD': 'Belize Dollar',\n",
    "    'BMD': 'Bermuda Dollar',\n",
    "    'BOB': 'Bolivia Boliviano',\n",
    "    'BAM': 'Bosnia and Herzegovina Convertible Marka',\n",
    "    'BWP': 'Botswana Pula',\n",
    "    'BGN': 'Bulgaria Lev',\n",
    "    'BRL': 'Brazil Real',\n",
    "    'BND': 'Brunei Darussalam Dollar',\n",
    "    'KHR': 'Cambodia Riel',\n",
    "    'CAD': 'Canada Dollar',\n",
    "    'KYD': 'Cayman Islands Dollar',\n",
    "    'CLP': 'Chile Peso',\n",
    "    'CNY': 'China Yuan Renminbi',\n",
    "    'COP': 'Colombia Peso',\n",
    "    'CRC': 'Costa Rica Colon',\n",
    "    'HRK': 'Croatia Kuna',\n",
    "    'CUP': 'Cuba Peso',\n",
    "    'CZK': 'Czech Republic Koruna',\n",
    "    'DKK': 'Denmark Krone',\n",
    "    'DOP': 'Dominican Republic Peso',\n",
    "    'XCD': 'East Caribbean Dollar',\n",
    "    'EGP': 'Egypt Pound',\n",
    "    'SVC': 'El Salvador Colon',\n",
    "    'EEK': 'Estonia Kroon',\n",
    "    'EUR': 'Euro Member Countries',\n",
    "    'FKP': 'Falkland Islands (Malvinas) Pound',\n",
    "    'FJD': 'Fiji Dollar',\n",
    "    'GHC': 'Ghana Cedis',\n",
    "    'GIP': 'Gibraltar Pound',\n",
    "    'GTQ': 'Guatemala Quetzal',\n",
    "    'GGP': 'Guernsey Pound',\n",
    "    'GYD': 'Guyana Dollar',\n",
    "    'HNL': 'Honduras Lempira',\n",
    "    'HKD': 'Hong Kong Dollar',\n",
    "    'HUF': 'Hungary Forint',\n",
    "    'ISK': 'Iceland Krona',\n",
    "    'INR': 'India Rupee',\n",
    "    'IDR': 'Indonesia Rupiah',\n",
    "    'IRR': 'Iran Rial',\n",
    "    'IMP': 'Isle of Man Pound',\n",
    "    'ILS': 'Israel Shekel',\n",
    "    'JMD': 'Jamaica Dollar',\n",
    "    'JPY': 'Japan Yen',\n",
    "    'JEP': 'Jersey Pound',\n",
    "    'KZT': 'Kazakhstan Tenge',\n",
    "    'KPW': 'Korea (North) Won',\n",
    "    'KRW': 'Korea (South) Won',\n",
    "    'KGS': 'Kyrgyzstan Som',\n",
    "    'LAK': 'Laos Kip',\n",
    "    'LVL': 'Latvia Lat',\n",
    "    'LBP': 'Lebanon Pound',\n",
    "    'LRD': 'Liberia Dollar',\n",
    "    'LTL': 'Lithuania Litas',\n",
    "    'MKD': 'Macedonia Denar',\n",
    "    'MYR': 'Malaysia Ringgit',\n",
    "    'MUR': 'Mauritius Rupee',\n",
    "    'MXN': 'Mexico Peso',\n",
    "    'MNT': 'Mongolia Tughrik',\n",
    "    'MZN': 'Mozambique Metical',\n",
    "    'NAD': 'Namibia Dollar',\n",
    "    'NPR': 'Nepal Rupee',\n",
    "    'ANG': 'Netherlands Antilles Guilder',\n",
    "    'NZD': 'New Zealand Dollar',\n",
    "    'NIO': 'Nicaragua Cordoba',\n",
    "    'NGN': 'Nigeria Naira',\n",
    "    'NOK': 'Norway Krone',\n",
    "    'OMR': 'Oman Rial',\n",
    "    'PKR': 'Pakistan Rupee',\n",
    "    'PAB': 'Panama Balboa',\n",
    "    'PYG': 'Paraguay Guarani',\n",
    "    'PEN': 'Peru Nuevo Sol',\n",
    "    'PHP': 'Philippines Peso',\n",
    "    'PLN': 'Poland Zloty',\n",
    "    'QAR': 'Qatar Riyal',\n",
    "    'RON': 'Romania New Leu',\n",
    "    'RUB': 'Russia Ruble',\n",
    "    'SHP': 'Saint Helena Pound',\n",
    "    'SAR': 'Saudi Arabia Riyal',\n",
    "    'RSD': 'Serbia Dinar',\n",
    "    'SCR': 'Seychelles Rupee',\n",
    "    'SGD': 'Singapore Dollar',\n",
    "    'SBD': 'Solomon Islands Dollar',\n",
    "    'SOS': 'Somalia Shilling',\n",
    "    'ZAR': 'South Africa Rand',\n",
    "    'LKR': 'Sri Lanka Rupee',\n",
    "    'SEK': 'Sweden Krona',\n",
    "    'CHF': 'Switzerland Franc',\n",
    "    'SRD': 'Suriname Dollar',\n",
    "    'SYP': 'Syria Pound',\n",
    "    'TWD': 'Taiwan New Dollar',\n",
    "    'THB': 'Thailand Baht',\n",
    "    'TTD': 'Trinidad and Tobago Dollar',\n",
    "    'TRY': 'Turkey Lira',\n",
    "    'TRL': 'Turkey Lira',\n",
    "    'TVD': 'Tuvalu Dollar',\n",
    "    'UAH': 'Ukraine Hryvna',\n",
    "    'GBP': 'United Kingdom Pound',\n",
    "    'USD': 'United States Dollar',\n",
    "    'UYU': 'Uruguay Peso',\n",
    "    'UZS': 'Uzbekistan Som',\n",
    "    'VEF': 'Venezuela Bolivar',\n",
    "    'VND': 'Viet Nam Dong',\n",
    "    'YER': 'Yemen Rial',\n",
    "    'ZWD': 'Zimbabwe Dollar'\n",
    "}"
   ]
  },
  {
   "cell_type": "code",
   "execution_count": 70,
   "metadata": {},
   "outputs": [],
   "source": [
    "#I will construct 2 dictionaries one and other {code:symb} {symb:code}\n",
    "from forex_python.converter import CurrencyCodes\n",
    "c = CurrencyCodes()\n",
    "dicSymCode = {}\n",
    "dicCodeSym = {}\n",
    "for key, value in currency_list.items():\n",
    "  dicCodeSym[key] = c.get_symbol(key)\n",
    "  dicSymCode[dicCodeSym[key]] = key\n",
    "\n"
   ]
  },
  {
   "cell_type": "code",
   "execution_count": 71,
   "metadata": {},
   "outputs": [],
   "source": [
    "def is_currency(val):\n",
    "    if ((val in dicCodeSym) or (val in dicSymCode)):\n",
    "      return True\n",
    "    else:\n",
    "      return False"
   ]
  },
  {
   "cell_type": "code",
   "execution_count": 72,
   "metadata": {},
   "outputs": [],
   "source": [
    "def is_color(text):\n",
    "    min1 = edit_distance(process_stem(text), process_stem(\"couleur\"))\n",
    "    min2 = edit_distance(process_stem(text), process_stem(\"color\")) \n",
    "    min3 = edit_distance(process_stem(text), process_stem(\"RGB\")) \n",
    "    minn = min(min1, min2, min3)\n",
    "    if (minn < 2):\n",
    "        return True\n",
    "    else:\n",
    "        return False"
   ]
  },
  {
   "cell_type": "code",
   "execution_count": 73,
   "metadata": {},
   "outputs": [],
   "source": [
    "def is_brand(text):\n",
    "    min1 = edit_distance(process_stem(text), process_stem(\"brand\"))\n",
    "    min2 = edit_distance(process_stem(text), process_stem(\"marque\")) \n",
    "    min3 = edit_distance(process_stem(text), process_stem(\"vendeur\")) \n",
    "    minn = min(min1, min2, min3)\n",
    "    if (minn < 2):\n",
    "        return True\n",
    "    else:\n",
    "        return False"
   ]
  },
  {
   "cell_type": "code",
   "execution_count": 91,
   "metadata": {},
   "outputs": [],
   "source": [
    "def my_new_dic(dicinput):\n",
    "    newDic = {}\n",
    "    unmatched = {}\n",
    "   # price_has_cur = False\n",
    "    last_cur = \"\"\n",
    "    for key, value in dicinput.items():\n",
    "        if (is_category(key)):\n",
    "        #agregate categories if a product have cat 1; cat2 etc...\n",
    "            newDic['category'] = value if (('category' in newDic) == False) else newDic['category'] + \";\" + value\n",
    "        elif(is_under_categories(key)):\n",
    "            newDic['underCategories'] = value if (('underCategories' in newDic) == False) else newDic['underCategories'] + \";\" + value\n",
    "        elif(is_price(key)):#\n",
    "            #print(value)\n",
    "            newDic['price'] = reprice_val(value)\n",
    "            if(take_cur(value) != []):\n",
    "                last_cur = take_cur(value)[0]\n",
    "                newDic['currency'] = dicSymCode[last_cur]\n",
    "        elif(is_currency(value)):\n",
    "            if ((value in dicCodeSym)):\n",
    "                newDic['currency'] = value\n",
    "            else:\n",
    "                newDic['currency'] = dicSymCode[value]\n",
    "        elif(is_color(key)):\n",
    "            newDic['color'] = value\n",
    "        elif(is_brand(key)):\n",
    "            newDic['brand'] = value\n",
    "        else:\n",
    "            unmatched[key] = value\n",
    "    return newDic, unmatched     "
   ]
  },
  {
   "cell_type": "code",
   "execution_count": 120,
   "metadata": {},
   "outputs": [],
   "source": [
    "def pretty_print(dicinput):\n",
    "    dicoutpout, unmatch = my_new_dic(dicinput)\n",
    "    my_str = \"{\\n\" \n",
    "    my_str += \"\\\"category\\\": \"+ dicoutpout[\"category\"] +\"\\n\"\n",
    "    my_str += \"\\\"underCategories\\\": \"+ \"[\"+','.join(dicoutpout[\"underCategories\"])+\"]\" +\"\\n\"\n",
    "    my_str += \"\\\"price\\\": \"+ str(dicoutpout[\"price\"]) +\"\\n\"\n",
    "    my_str += \"\\\"currency\\\": \"+ dicoutpout[\"currency\"] +\"\\n\"\n",
    "    my_str += \"\\\"color\\\": \"+ dicoutpout[\"color\"] +\"\\n\"\n",
    "    my_str += \"\\\"brand\\\": \"+ dicoutpout[\"brand\"] +\"\\n\"\n",
    "    my_str += \"}\"\n",
    "    print(my_str)\n",
    " "
   ]
  },
  {
   "cell_type": "code",
   "execution_count": 118,
   "metadata": {},
   "outputs": [],
   "source": [
    "#test input 1\n",
    "dicinput =  {\n",
    "  \"categorie\": \"ordinateur\",\n",
    "  \"tags\": [\"apple\", \"portable\", \"meilleurs_ventes\"],\n",
    "  \"prix_ht\": \"789,60€\", \n",
    "  \"color\": \"gris\",\n",
    "  \"vendeur\": \"Apple\",\n",
    "  \"description\": \"Le tout nouveau macbook cheap est enfin disponible !!!\"\n",
    "}"
   ]
  },
  {
   "cell_type": "code",
   "execution_count": null,
   "metadata": {},
   "outputs": [],
   "source": [
    "pretty_print(dicinput)"
   ]
  }
 ],
 "metadata": {
  "kernelspec": {
   "display_name": "Python 3",
   "language": "python",
   "name": "python3"
  },
  "language_info": {
   "codemirror_mode": {
    "name": "ipython",
    "version": 3
   },
   "file_extension": ".py",
   "mimetype": "text/x-python",
   "name": "python",
   "nbconvert_exporter": "python",
   "pygments_lexer": "ipython3",
   "version": "3.5.2"
  }
 },
 "nbformat": 4,
 "nbformat_minor": 2
}
